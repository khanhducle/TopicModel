{
 "cells": [
  {
   "cell_type": "code",
   "execution_count": 11,
   "metadata": {
    "collapsed": false
   },
   "outputs": [],
   "source": [
    "from sklearn.decomposition import LatentDirichletAllocation\n",
    "from sklearn.datasets import fetch_20newsgroups\n",
    "from sklearn.feature_extraction.text import CountVectorizer\n",
    "from __future__ import print_function"
   ]
  },
  {
   "cell_type": "code",
   "execution_count": 12,
   "metadata": {
    "collapsed": true
   },
   "outputs": [],
   "source": [
    "# bigram, trigram? research paper: long names form a word of particle\n",
    "# find noun, not verb, \n",
    "# lemmanization? in research paper does not make a lot of sense\n",
    "# stopwords?"
   ]
  },
  {
   "cell_type": "code",
   "execution_count": 13,
   "metadata": {
    "collapsed": true
   },
   "outputs": [],
   "source": [
    "n_samples = 2000\n",
    "n_features = 1000\n",
    "n_topics = 20\n",
    "n_top_words = 20"
   ]
  },
  {
   "cell_type": "code",
   "execution_count": 4,
   "metadata": {
    "collapsed": false
   },
   "outputs": [],
   "source": [
    "dataset = fetch_20newsgroups(shuffle = True, \n",
    "                             random_state = 1,\n",
    "                             remove = ('headers', 'footers', 'quotes'))"
   ]
  },
  {
   "cell_type": "code",
   "execution_count": 5,
   "metadata": {
    "collapsed": false
   },
   "outputs": [],
   "source": [
    "data_samples = dataset.data[:n_samples]"
   ]
  },
  {
   "cell_type": "code",
   "execution_count": 6,
   "metadata": {
    "collapsed": false
   },
   "outputs": [],
   "source": [
    "# user tf features for LDA model\n",
    "tf_vectorizer = CountVectorizer(max_df = 0.95, \n",
    "                                min_df = 2, \n",
    "                                max_features = n_features, \n",
    "                                stop_words = 'english')\n",
    "tf = tf_vectorizer.fit_transform(data_samples)"
   ]
  },
  {
   "cell_type": "code",
   "execution_count": 7,
   "metadata": {
    "collapsed": true
   },
   "outputs": [],
   "source": [
    "lda = LatentDirichletAllocation(n_topics = n_topics, \n",
    "                                max_iter = 5, \n",
    "                                learning_method = 'online',\n",
    "                                learning_offset = 50.,\n",
    "                                random_state = 0)"
   ]
  },
  {
   "cell_type": "code",
   "execution_count": 8,
   "metadata": {
    "collapsed": false
   },
   "outputs": [
    {
     "data": {
      "text/plain": [
       "LatentDirichletAllocation(batch_size=128, doc_topic_prior=None,\n",
       "             evaluate_every=-1, learning_decay=0.7,\n",
       "             learning_method='online', learning_offset=50.0,\n",
       "             max_doc_update_iter=100, max_iter=5, mean_change_tol=0.001,\n",
       "             n_jobs=1, n_topics=20, perp_tol=0.1, random_state=0,\n",
       "             topic_word_prior=None, total_samples=1000000.0, verbose=0)"
      ]
     },
     "execution_count": 8,
     "metadata": {},
     "output_type": "execute_result"
    }
   ],
   "source": [
    "lda.fit(tf)"
   ]
  },
  {
   "cell_type": "code",
   "execution_count": 9,
   "metadata": {
    "collapsed": true
   },
   "outputs": [],
   "source": [
    "def print_top_words(model, feature_names, n_top_words):\n",
    "    for topic_idx, topic in enumerate(model.components_):\n",
    "        print(\"Topic #%d:\" % topic_idx)\n",
    "        print(\" \".join([feature_names[i]\n",
    "                        for i in topic.argsort()[:-n_top_words - 1:-1]]))\n",
    "    print()"
   ]
  },
  {
   "cell_type": "code",
   "execution_count": 10,
   "metadata": {
    "collapsed": false
   },
   "outputs": [
    {
     "name": "stdout",
     "output_type": "stream",
     "text": [
      "\n",
      "Topics in LDA model:\n",
      "Topic #0:\n",
      "rules nature memory list free data probably copies edu change pub graphics allowed break mail god 128 3d send ray\n",
      "Topic #1:\n",
      "armenians armenian turkish 000 went dead azerbaijan people mamma children armenia city killed said home weapons apartment crowd population building\n",
      "Topic #2:\n",
      "year defense think better want lot real really addition graphics hit pretty good edu following people years features like driving\n",
      "Topic #3:\n",
      "engine power water hot cold gas drive runs air oil better driver wanted sale format cs software problem make tape\n",
      "Topic #4:\n",
      "display monitor correct ground value knows yes try need comes 16 board long really possible house putting appreciated live response\n",
      "Topic #5:\n",
      "israel scsi attacks israeli win jews conference men policy soldiers true bit state papers people allow problem regular accept able\n",
      "Topic #6:\n",
      "greek players team play hockey nhl player game bob teams playing north new early pittsburgh world games canada best said\n",
      "Topic #7:\n",
      "bike car 500 insurance year cars 100 250 300 000 200 costs rate company driving mil buying live rates 1992\n",
      "Topic #8:\n",
      "window problem printer marriage hp using port tried manager windows screen quality couple worked serial thanks luck does fine work\n",
      "Topic #9:\n",
      "space year years team game 10 flyers earth moon power period new play probe goal science season time lunar president\n",
      "Topic #10:\n",
      "vs gm game copies john leafs 17 st 26 2nd 24 16 red 28 left series true cover 15 pro\n",
      "Topic #11:\n",
      "55 edu 10 mail ftp graphics version 11 available send file contact pub 00 20 server 16 image data information\n",
      "Topic #12:\n",
      "cubs games division supposed season teams st regular series guess manager reason left played added oh play fair lack world\n",
      "Topic #13:\n",
      "hiv health aids disease medical magi said care research children university 1993 study april national service number page new information\n",
      "Topic #14:\n",
      "edu com navy stuff cs soon gov ray mil internet software org blood send 128 places article graphics newsgroup 3d\n",
      "Topic #15:\n",
      "key government chip public encryption use clipper keys security private enforcement law message encrypted data clinton secure used control nsa\n",
      "Topic #16:\n",
      "section gun military law firearm weapon crime dangerous guns weapons police license shall state person self use means division application\n",
      "Topic #17:\n",
      "drive disk drives hard controller bios rom card floppy feature 16 supports interface pin mb connector cable heads scsi speed\n",
      "Topic #18:\n",
      "like use know just new don good need time thanks does want work think used problem windows using way ve\n",
      "Topic #19:\n",
      "people just don think god like know time say did way does make said good right really believe didn ve\n",
      "\n"
     ]
    }
   ],
   "source": [
    "print(\"\\nTopics in LDA model:\")\n",
    "tf_feature_names = tf_vectorizer.get_feature_names()\n",
    "print_top_words(lda, tf_feature_names, n_top_words)"
   ]
  },
  {
   "cell_type": "code",
   "execution_count": null,
   "metadata": {
    "collapsed": true
   },
   "outputs": [],
   "source": []
  }
 ],
 "metadata": {
  "kernelspec": {
   "display_name": "Python 3",
   "language": "python",
   "name": "python3"
  },
  "language_info": {
   "codemirror_mode": {
    "name": "ipython",
    "version": 3
   },
   "file_extension": ".py",
   "mimetype": "text/x-python",
   "name": "python",
   "nbconvert_exporter": "python",
   "pygments_lexer": "ipython3",
   "version": "3.5.2"
  }
 },
 "nbformat": 4,
 "nbformat_minor": 1
}
